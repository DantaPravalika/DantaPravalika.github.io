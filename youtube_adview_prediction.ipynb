{
  "nbformat": 4,
  "nbformat_minor": 0,
  "metadata": {
    "colab": {
      "name": "youtube adview prediction.ipynb",
      "provenance": [],
      "collapsed_sections": [],
      "toc_visible": true
    },
    "kernelspec": {
      "name": "python3",
      "display_name": "Python 3"
    }
  },
  "cells": [
    {
      "cell_type": "code",
      "metadata": {
        "id": "iLeO0OrL_sO3"
      },
      "source": [
        "import numpy as np\r\n",
        "import pandas as pd\r\n",
        "import matplotlib.pyplot as plt\r\n",
        "import seaborn as sns\r\n"
      ],
      "execution_count": 928,
      "outputs": []
    },
    {
      "cell_type": "code",
      "metadata": {
        "id": "ASdEiuNECXO6"
      },
      "source": [
        "data_train=pd.read_csv('train.csv')"
      ],
      "execution_count": 929,
      "outputs": []
    },
    {
      "cell_type": "code",
      "metadata": {
        "id": "133yIfY-Emix",
        "colab": {
          "base_uri": "https://localhost:8080/",
          "height": 343
        },
        "outputId": "8b1a7d5e-9cc1-4362-d54d-9b51a17125af"
      },
      "source": [
        "data_train.head(10)"
      ],
      "execution_count": 930,
      "outputs": [
        {
          "output_type": "execute_result",
          "data": {
            "text/html": [
              "<div>\n",
              "<style scoped>\n",
              "    .dataframe tbody tr th:only-of-type {\n",
              "        vertical-align: middle;\n",
              "    }\n",
              "\n",
              "    .dataframe tbody tr th {\n",
              "        vertical-align: top;\n",
              "    }\n",
              "\n",
              "    .dataframe thead th {\n",
              "        text-align: right;\n",
              "    }\n",
              "</style>\n",
              "<table border=\"1\" class=\"dataframe\">\n",
              "  <thead>\n",
              "    <tr style=\"text-align: right;\">\n",
              "      <th></th>\n",
              "      <th>vidid</th>\n",
              "      <th>adview</th>\n",
              "      <th>views</th>\n",
              "      <th>likes</th>\n",
              "      <th>dislikes</th>\n",
              "      <th>comment</th>\n",
              "      <th>published</th>\n",
              "      <th>duration</th>\n",
              "      <th>category</th>\n",
              "    </tr>\n",
              "  </thead>\n",
              "  <tbody>\n",
              "    <tr>\n",
              "      <th>0</th>\n",
              "      <td>VID_18655</td>\n",
              "      <td>40</td>\n",
              "      <td>1031602</td>\n",
              "      <td>8523</td>\n",
              "      <td>363</td>\n",
              "      <td>1095</td>\n",
              "      <td>2016-09-14</td>\n",
              "      <td>PT7M37S</td>\n",
              "      <td>F</td>\n",
              "    </tr>\n",
              "    <tr>\n",
              "      <th>1</th>\n",
              "      <td>VID_14135</td>\n",
              "      <td>2</td>\n",
              "      <td>1707</td>\n",
              "      <td>56</td>\n",
              "      <td>2</td>\n",
              "      <td>6</td>\n",
              "      <td>2016-10-01</td>\n",
              "      <td>PT9M30S</td>\n",
              "      <td>D</td>\n",
              "    </tr>\n",
              "    <tr>\n",
              "      <th>2</th>\n",
              "      <td>VID_2187</td>\n",
              "      <td>1</td>\n",
              "      <td>2023</td>\n",
              "      <td>25</td>\n",
              "      <td>0</td>\n",
              "      <td>2</td>\n",
              "      <td>2016-07-02</td>\n",
              "      <td>PT2M16S</td>\n",
              "      <td>C</td>\n",
              "    </tr>\n",
              "    <tr>\n",
              "      <th>3</th>\n",
              "      <td>VID_23096</td>\n",
              "      <td>6</td>\n",
              "      <td>620860</td>\n",
              "      <td>777</td>\n",
              "      <td>161</td>\n",
              "      <td>153</td>\n",
              "      <td>2016-07-27</td>\n",
              "      <td>PT4M22S</td>\n",
              "      <td>H</td>\n",
              "    </tr>\n",
              "    <tr>\n",
              "      <th>4</th>\n",
              "      <td>VID_10175</td>\n",
              "      <td>1</td>\n",
              "      <td>666</td>\n",
              "      <td>1</td>\n",
              "      <td>0</td>\n",
              "      <td>0</td>\n",
              "      <td>2016-06-29</td>\n",
              "      <td>PT31S</td>\n",
              "      <td>D</td>\n",
              "    </tr>\n",
              "    <tr>\n",
              "      <th>5</th>\n",
              "      <td>VID_10756</td>\n",
              "      <td>4</td>\n",
              "      <td>78</td>\n",
              "      <td>0</td>\n",
              "      <td>0</td>\n",
              "      <td>0</td>\n",
              "      <td>2016-05-09</td>\n",
              "      <td>PT15S</td>\n",
              "      <td>D</td>\n",
              "    </tr>\n",
              "    <tr>\n",
              "      <th>6</th>\n",
              "      <td>VID_9782</td>\n",
              "      <td>40621</td>\n",
              "      <td>43118</td>\n",
              "      <td>15</td>\n",
              "      <td>1</td>\n",
              "      <td>0</td>\n",
              "      <td>2015-08-21</td>\n",
              "      <td>PT3M20S</td>\n",
              "      <td>D</td>\n",
              "    </tr>\n",
              "    <tr>\n",
              "      <th>7</th>\n",
              "      <td>VID_16452</td>\n",
              "      <td>1</td>\n",
              "      <td>14205</td>\n",
              "      <td>55</td>\n",
              "      <td>16</td>\n",
              "      <td>1</td>\n",
              "      <td>2016-08-01</td>\n",
              "      <td>PT58S</td>\n",
              "      <td>E</td>\n",
              "    </tr>\n",
              "    <tr>\n",
              "      <th>8</th>\n",
              "      <td>VID_18486</td>\n",
              "      <td>1</td>\n",
              "      <td>526015</td>\n",
              "      <td>3064</td>\n",
              "      <td>211</td>\n",
              "      <td>2582</td>\n",
              "      <td>2015-11-06</td>\n",
              "      <td>PT27M50S</td>\n",
              "      <td>F</td>\n",
              "    </tr>\n",
              "    <tr>\n",
              "      <th>9</th>\n",
              "      <td>VID_681</td>\n",
              "      <td>1</td>\n",
              "      <td>406992</td>\n",
              "      <td>3831</td>\n",
              "      <td>310</td>\n",
              "      <td>7839</td>\n",
              "      <td>2016-10-03</td>\n",
              "      <td>PT11M19S</td>\n",
              "      <td>B</td>\n",
              "    </tr>\n",
              "  </tbody>\n",
              "</table>\n",
              "</div>"
            ],
            "text/plain": [
              "       vidid  adview    views likes  ... comment   published  duration category\n",
              "0  VID_18655      40  1031602  8523  ...    1095  2016-09-14   PT7M37S        F\n",
              "1  VID_14135       2     1707    56  ...       6  2016-10-01   PT9M30S        D\n",
              "2   VID_2187       1     2023    25  ...       2  2016-07-02   PT2M16S        C\n",
              "3  VID_23096       6   620860   777  ...     153  2016-07-27   PT4M22S        H\n",
              "4  VID_10175       1      666     1  ...       0  2016-06-29     PT31S        D\n",
              "5  VID_10756       4       78     0  ...       0  2016-05-09     PT15S        D\n",
              "6   VID_9782   40621    43118    15  ...       0  2015-08-21   PT3M20S        D\n",
              "7  VID_16452       1    14205    55  ...       1  2016-08-01     PT58S        E\n",
              "8  VID_18486       1   526015  3064  ...    2582  2015-11-06  PT27M50S        F\n",
              "9    VID_681       1   406992  3831  ...    7839  2016-10-03  PT11M19S        B\n",
              "\n",
              "[10 rows x 9 columns]"
            ]
          },
          "metadata": {
            "tags": []
          },
          "execution_count": 930
        }
      ]
    },
    {
      "cell_type": "code",
      "metadata": {
        "colab": {
          "base_uri": "https://localhost:8080/"
        },
        "id": "gNQYq2OQvz1b",
        "outputId": "2067e763-bbc0-45da-eb9b-f78a00ce6ef1"
      },
      "source": [
        "data_train.shape"
      ],
      "execution_count": 931,
      "outputs": [
        {
          "output_type": "execute_result",
          "data": {
            "text/plain": [
              "(14999, 9)"
            ]
          },
          "metadata": {
            "tags": []
          },
          "execution_count": 931
        }
      ]
    },
    {
      "cell_type": "code",
      "metadata": {
        "colab": {
          "base_uri": "https://localhost:8080/"
        },
        "id": "x4CE7fgYwFv7",
        "outputId": "202facde-a22d-4795-b811-399988153a88"
      },
      "source": [
        "type(data_train)"
      ],
      "execution_count": 932,
      "outputs": [
        {
          "output_type": "execute_result",
          "data": {
            "text/plain": [
              "pandas.core.frame.DataFrame"
            ]
          },
          "metadata": {
            "tags": []
          },
          "execution_count": 932
        }
      ]
    },
    {
      "cell_type": "code",
      "metadata": {
        "colab": {
          "base_uri": "https://localhost:8080/",
          "height": 284
        },
        "id": "w2V7-NDGv5VI",
        "outputId": "70b39789-a597-4ea7-fae2-3195d5881ba8"
      },
      "source": [
        "data_train.describe()"
      ],
      "execution_count": 933,
      "outputs": [
        {
          "output_type": "execute_result",
          "data": {
            "text/html": [
              "<div>\n",
              "<style scoped>\n",
              "    .dataframe tbody tr th:only-of-type {\n",
              "        vertical-align: middle;\n",
              "    }\n",
              "\n",
              "    .dataframe tbody tr th {\n",
              "        vertical-align: top;\n",
              "    }\n",
              "\n",
              "    .dataframe thead th {\n",
              "        text-align: right;\n",
              "    }\n",
              "</style>\n",
              "<table border=\"1\" class=\"dataframe\">\n",
              "  <thead>\n",
              "    <tr style=\"text-align: right;\">\n",
              "      <th></th>\n",
              "      <th>adview</th>\n",
              "    </tr>\n",
              "  </thead>\n",
              "  <tbody>\n",
              "    <tr>\n",
              "      <th>count</th>\n",
              "      <td>1.499900e+04</td>\n",
              "    </tr>\n",
              "    <tr>\n",
              "      <th>mean</th>\n",
              "      <td>2.107791e+03</td>\n",
              "    </tr>\n",
              "    <tr>\n",
              "      <th>std</th>\n",
              "      <td>5.237711e+04</td>\n",
              "    </tr>\n",
              "    <tr>\n",
              "      <th>min</th>\n",
              "      <td>1.000000e+00</td>\n",
              "    </tr>\n",
              "    <tr>\n",
              "      <th>25%</th>\n",
              "      <td>1.000000e+00</td>\n",
              "    </tr>\n",
              "    <tr>\n",
              "      <th>50%</th>\n",
              "      <td>2.000000e+00</td>\n",
              "    </tr>\n",
              "    <tr>\n",
              "      <th>75%</th>\n",
              "      <td>6.000000e+00</td>\n",
              "    </tr>\n",
              "    <tr>\n",
              "      <th>max</th>\n",
              "      <td>5.429665e+06</td>\n",
              "    </tr>\n",
              "  </tbody>\n",
              "</table>\n",
              "</div>"
            ],
            "text/plain": [
              "             adview\n",
              "count  1.499900e+04\n",
              "mean   2.107791e+03\n",
              "std    5.237711e+04\n",
              "min    1.000000e+00\n",
              "25%    1.000000e+00\n",
              "50%    2.000000e+00\n",
              "75%    6.000000e+00\n",
              "max    5.429665e+06"
            ]
          },
          "metadata": {
            "tags": []
          },
          "execution_count": 933
        }
      ]
    },
    {
      "cell_type": "code",
      "metadata": {
        "id": "2UkhLVXVEsJK"
      },
      "source": [
        "category={'A':1,'B':2,'C':3,'D':4,'E':5,'F':6,'G':7,'H':8}\r\n",
        "data_train['category']=data_train['category'].map(category)"
      ],
      "execution_count": 934,
      "outputs": []
    },
    {
      "cell_type": "code",
      "metadata": {
        "colab": {
          "base_uri": "https://localhost:8080/",
          "height": 343
        },
        "id": "QrlmksR6vr1A",
        "outputId": "da0871bb-18dc-4cd8-f1d9-d35f212db119"
      },
      "source": [
        "data_train.head(10)"
      ],
      "execution_count": 935,
      "outputs": [
        {
          "output_type": "execute_result",
          "data": {
            "text/html": [
              "<div>\n",
              "<style scoped>\n",
              "    .dataframe tbody tr th:only-of-type {\n",
              "        vertical-align: middle;\n",
              "    }\n",
              "\n",
              "    .dataframe tbody tr th {\n",
              "        vertical-align: top;\n",
              "    }\n",
              "\n",
              "    .dataframe thead th {\n",
              "        text-align: right;\n",
              "    }\n",
              "</style>\n",
              "<table border=\"1\" class=\"dataframe\">\n",
              "  <thead>\n",
              "    <tr style=\"text-align: right;\">\n",
              "      <th></th>\n",
              "      <th>vidid</th>\n",
              "      <th>adview</th>\n",
              "      <th>views</th>\n",
              "      <th>likes</th>\n",
              "      <th>dislikes</th>\n",
              "      <th>comment</th>\n",
              "      <th>published</th>\n",
              "      <th>duration</th>\n",
              "      <th>category</th>\n",
              "    </tr>\n",
              "  </thead>\n",
              "  <tbody>\n",
              "    <tr>\n",
              "      <th>0</th>\n",
              "      <td>VID_18655</td>\n",
              "      <td>40</td>\n",
              "      <td>1031602</td>\n",
              "      <td>8523</td>\n",
              "      <td>363</td>\n",
              "      <td>1095</td>\n",
              "      <td>2016-09-14</td>\n",
              "      <td>PT7M37S</td>\n",
              "      <td>6</td>\n",
              "    </tr>\n",
              "    <tr>\n",
              "      <th>1</th>\n",
              "      <td>VID_14135</td>\n",
              "      <td>2</td>\n",
              "      <td>1707</td>\n",
              "      <td>56</td>\n",
              "      <td>2</td>\n",
              "      <td>6</td>\n",
              "      <td>2016-10-01</td>\n",
              "      <td>PT9M30S</td>\n",
              "      <td>4</td>\n",
              "    </tr>\n",
              "    <tr>\n",
              "      <th>2</th>\n",
              "      <td>VID_2187</td>\n",
              "      <td>1</td>\n",
              "      <td>2023</td>\n",
              "      <td>25</td>\n",
              "      <td>0</td>\n",
              "      <td>2</td>\n",
              "      <td>2016-07-02</td>\n",
              "      <td>PT2M16S</td>\n",
              "      <td>3</td>\n",
              "    </tr>\n",
              "    <tr>\n",
              "      <th>3</th>\n",
              "      <td>VID_23096</td>\n",
              "      <td>6</td>\n",
              "      <td>620860</td>\n",
              "      <td>777</td>\n",
              "      <td>161</td>\n",
              "      <td>153</td>\n",
              "      <td>2016-07-27</td>\n",
              "      <td>PT4M22S</td>\n",
              "      <td>8</td>\n",
              "    </tr>\n",
              "    <tr>\n",
              "      <th>4</th>\n",
              "      <td>VID_10175</td>\n",
              "      <td>1</td>\n",
              "      <td>666</td>\n",
              "      <td>1</td>\n",
              "      <td>0</td>\n",
              "      <td>0</td>\n",
              "      <td>2016-06-29</td>\n",
              "      <td>PT31S</td>\n",
              "      <td>4</td>\n",
              "    </tr>\n",
              "    <tr>\n",
              "      <th>5</th>\n",
              "      <td>VID_10756</td>\n",
              "      <td>4</td>\n",
              "      <td>78</td>\n",
              "      <td>0</td>\n",
              "      <td>0</td>\n",
              "      <td>0</td>\n",
              "      <td>2016-05-09</td>\n",
              "      <td>PT15S</td>\n",
              "      <td>4</td>\n",
              "    </tr>\n",
              "    <tr>\n",
              "      <th>6</th>\n",
              "      <td>VID_9782</td>\n",
              "      <td>40621</td>\n",
              "      <td>43118</td>\n",
              "      <td>15</td>\n",
              "      <td>1</td>\n",
              "      <td>0</td>\n",
              "      <td>2015-08-21</td>\n",
              "      <td>PT3M20S</td>\n",
              "      <td>4</td>\n",
              "    </tr>\n",
              "    <tr>\n",
              "      <th>7</th>\n",
              "      <td>VID_16452</td>\n",
              "      <td>1</td>\n",
              "      <td>14205</td>\n",
              "      <td>55</td>\n",
              "      <td>16</td>\n",
              "      <td>1</td>\n",
              "      <td>2016-08-01</td>\n",
              "      <td>PT58S</td>\n",
              "      <td>5</td>\n",
              "    </tr>\n",
              "    <tr>\n",
              "      <th>8</th>\n",
              "      <td>VID_18486</td>\n",
              "      <td>1</td>\n",
              "      <td>526015</td>\n",
              "      <td>3064</td>\n",
              "      <td>211</td>\n",
              "      <td>2582</td>\n",
              "      <td>2015-11-06</td>\n",
              "      <td>PT27M50S</td>\n",
              "      <td>6</td>\n",
              "    </tr>\n",
              "    <tr>\n",
              "      <th>9</th>\n",
              "      <td>VID_681</td>\n",
              "      <td>1</td>\n",
              "      <td>406992</td>\n",
              "      <td>3831</td>\n",
              "      <td>310</td>\n",
              "      <td>7839</td>\n",
              "      <td>2016-10-03</td>\n",
              "      <td>PT11M19S</td>\n",
              "      <td>2</td>\n",
              "    </tr>\n",
              "  </tbody>\n",
              "</table>\n",
              "</div>"
            ],
            "text/plain": [
              "       vidid  adview    views likes  ... comment   published  duration category\n",
              "0  VID_18655      40  1031602  8523  ...    1095  2016-09-14   PT7M37S        6\n",
              "1  VID_14135       2     1707    56  ...       6  2016-10-01   PT9M30S        4\n",
              "2   VID_2187       1     2023    25  ...       2  2016-07-02   PT2M16S        3\n",
              "3  VID_23096       6   620860   777  ...     153  2016-07-27   PT4M22S        8\n",
              "4  VID_10175       1      666     1  ...       0  2016-06-29     PT31S        4\n",
              "5  VID_10756       4       78     0  ...       0  2016-05-09     PT15S        4\n",
              "6   VID_9782   40621    43118    15  ...       0  2015-08-21   PT3M20S        4\n",
              "7  VID_16452       1    14205    55  ...       1  2016-08-01     PT58S        5\n",
              "8  VID_18486       1   526015  3064  ...    2582  2015-11-06  PT27M50S        6\n",
              "9    VID_681       1   406992  3831  ...    7839  2016-10-03  PT11M19S        2\n",
              "\n",
              "[10 rows x 9 columns]"
            ]
          },
          "metadata": {
            "tags": []
          },
          "execution_count": 935
        }
      ]
    },
    {
      "cell_type": "code",
      "metadata": {
        "id": "8xB0_Zknw8Dw"
      },
      "source": [
        "data_train=data_train[data_train.views !='F']\r\n",
        "data_train=data_train[data_train.likes !='F']\r\n",
        "data_train=data_train[data_train.dislikes !='F']\r\n",
        "data_train=data_train[data_train.comment !='F']"
      ],
      "execution_count": 936,
      "outputs": []
    },
    {
      "cell_type": "code",
      "metadata": {
        "id": "apSdVCT2rJ54"
      },
      "source": [
        "data_train['views']=pd.to_numeric(data_train['views'])\r\n",
        "data_train['adview']=pd.to_numeric(data_train['adview'])\r\n",
        "data_train['likes']=pd.to_numeric(data_train['likes'])\r\n",
        "data_train['dislikes']=pd.to_numeric(data_train['dislikes'])"
      ],
      "execution_count": 937,
      "outputs": []
    },
    {
      "cell_type": "code",
      "metadata": {
        "id": "94UQ8f4g0ayS"
      },
      "source": [
        "from sklearn.preprocessing import LabelEncoder\r\n",
        "label_encoder = LabelEncoder()\r\n",
        "data_train['vidid']=label_encoder.fit_transform(data_train['vidid'])\r\n",
        "data_train['published']=label_encoder.fit_transform(data_train['published'])\r\n",
        "data_train['duration']=label_encoder.fit_transform(data_train['duration'])\r\n"
      ],
      "execution_count": 938,
      "outputs": []
    },
    {
      "cell_type": "code",
      "metadata": {
        "colab": {
          "base_uri": "https://localhost:8080/",
          "height": 195
        },
        "id": "nXU85aZBj95t",
        "outputId": "9d7e7f5c-2b7e-4548-f95e-eaa4a827aa65"
      },
      "source": [
        "data_train.head()"
      ],
      "execution_count": 939,
      "outputs": [
        {
          "output_type": "execute_result",
          "data": {
            "text/html": [
              "<div>\n",
              "<style scoped>\n",
              "    .dataframe tbody tr th:only-of-type {\n",
              "        vertical-align: middle;\n",
              "    }\n",
              "\n",
              "    .dataframe tbody tr th {\n",
              "        vertical-align: top;\n",
              "    }\n",
              "\n",
              "    .dataframe thead th {\n",
              "        text-align: right;\n",
              "    }\n",
              "</style>\n",
              "<table border=\"1\" class=\"dataframe\">\n",
              "  <thead>\n",
              "    <tr style=\"text-align: right;\">\n",
              "      <th></th>\n",
              "      <th>vidid</th>\n",
              "      <th>adview</th>\n",
              "      <th>views</th>\n",
              "      <th>likes</th>\n",
              "      <th>dislikes</th>\n",
              "      <th>comment</th>\n",
              "      <th>published</th>\n",
              "      <th>duration</th>\n",
              "      <th>category</th>\n",
              "    </tr>\n",
              "  </thead>\n",
              "  <tbody>\n",
              "    <tr>\n",
              "      <th>0</th>\n",
              "      <td>5912</td>\n",
              "      <td>40</td>\n",
              "      <td>1031602</td>\n",
              "      <td>8523</td>\n",
              "      <td>363</td>\n",
              "      <td>1095</td>\n",
              "      <td>2168</td>\n",
              "      <td>2925</td>\n",
              "      <td>6</td>\n",
              "    </tr>\n",
              "    <tr>\n",
              "      <th>1</th>\n",
              "      <td>2741</td>\n",
              "      <td>2</td>\n",
              "      <td>1707</td>\n",
              "      <td>56</td>\n",
              "      <td>2</td>\n",
              "      <td>6</td>\n",
              "      <td>2185</td>\n",
              "      <td>3040</td>\n",
              "      <td>4</td>\n",
              "    </tr>\n",
              "    <tr>\n",
              "      <th>2</th>\n",
              "      <td>8138</td>\n",
              "      <td>1</td>\n",
              "      <td>2023</td>\n",
              "      <td>25</td>\n",
              "      <td>0</td>\n",
              "      <td>2</td>\n",
              "      <td>2094</td>\n",
              "      <td>1863</td>\n",
              "      <td>3</td>\n",
              "    </tr>\n",
              "    <tr>\n",
              "      <th>3</th>\n",
              "      <td>9005</td>\n",
              "      <td>6</td>\n",
              "      <td>620860</td>\n",
              "      <td>777</td>\n",
              "      <td>161</td>\n",
              "      <td>153</td>\n",
              "      <td>2119</td>\n",
              "      <td>2546</td>\n",
              "      <td>8</td>\n",
              "    </tr>\n",
              "    <tr>\n",
              "      <th>4</th>\n",
              "      <td>122</td>\n",
              "      <td>1</td>\n",
              "      <td>666</td>\n",
              "      <td>1</td>\n",
              "      <td>0</td>\n",
              "      <td>0</td>\n",
              "      <td>2091</td>\n",
              "      <td>1963</td>\n",
              "      <td>4</td>\n",
              "    </tr>\n",
              "  </tbody>\n",
              "</table>\n",
              "</div>"
            ],
            "text/plain": [
              "   vidid  adview    views  likes  ...  comment published  duration  category\n",
              "0   5912      40  1031602   8523  ...     1095      2168      2925         6\n",
              "1   2741       2     1707     56  ...        6      2185      3040         4\n",
              "2   8138       1     2023     25  ...        2      2094      1863         3\n",
              "3   9005       6   620860    777  ...      153      2119      2546         8\n",
              "4    122       1      666      1  ...        0      2091      1963         4\n",
              "\n",
              "[5 rows x 9 columns]"
            ]
          },
          "metadata": {
            "tags": []
          },
          "execution_count": 939
        }
      ]
    },
    {
      "cell_type": "code",
      "metadata": {
        "colab": {
          "base_uri": "https://localhost:8080/",
          "height": 195
        },
        "id": "QzXsZFaXowQ_",
        "outputId": "286e3917-01c0-4b8d-9ce8-a7cc81a43ec3"
      },
      "source": [
        "import datetime\r\n",
        "import time\r\n",
        "def checki(x):\r\n",
        "    y = x[2:]\r\n",
        "    h = ''\r\n",
        "    m = ''\r\n",
        "    s = ''\r\n",
        "    mm = ''\r\n",
        "    P = ['H','M','S']\r\n",
        "    for i in y:\r\n",
        "        if i not in P:\r\n",
        "            mm+=i\r\n",
        "        else:\r\n",
        "            if(i==\"H\"):\r\n",
        "                h = mm\r\n",
        "                mm = ''\r\n",
        "            elif(i == \"M\"):\r\n",
        "                m = mm\r\n",
        "                mm = ''\r\n",
        "            else:\r\n",
        "                s = mm\r\n",
        "                mm = ''\r\n",
        "    if(h==''):\r\n",
        "        h = '00'\r\n",
        "    if(m == ''):\r\n",
        "        m = '00'\r\n",
        "    if(s==''):\r\n",
        "        s='00'\r\n",
        "    bp = h+':'+m+':'+s\r\n",
        "    return bp\r\n",
        "train=pd.read_csv(\"train.csv\")\r\n",
        "mp = pd.read_csv(\"train.csv\")[\"duration\"]\r\n",
        "time = mp.apply(checki)\r\n",
        "def func_sec(time_string):\r\n",
        "    h,m,s = time_string.split(\":\")\r\n",
        "    return int(h) * 3600 + int(m) * 60 + int(s)\r\n",
        "time1=time.apply(func_sec)\r\n",
        "data_train[\"duration\"]=time1\r\n",
        "data_train.head()"
      ],
      "execution_count": 940,
      "outputs": [
        {
          "output_type": "execute_result",
          "data": {
            "text/html": [
              "<div>\n",
              "<style scoped>\n",
              "    .dataframe tbody tr th:only-of-type {\n",
              "        vertical-align: middle;\n",
              "    }\n",
              "\n",
              "    .dataframe tbody tr th {\n",
              "        vertical-align: top;\n",
              "    }\n",
              "\n",
              "    .dataframe thead th {\n",
              "        text-align: right;\n",
              "    }\n",
              "</style>\n",
              "<table border=\"1\" class=\"dataframe\">\n",
              "  <thead>\n",
              "    <tr style=\"text-align: right;\">\n",
              "      <th></th>\n",
              "      <th>vidid</th>\n",
              "      <th>adview</th>\n",
              "      <th>views</th>\n",
              "      <th>likes</th>\n",
              "      <th>dislikes</th>\n",
              "      <th>comment</th>\n",
              "      <th>published</th>\n",
              "      <th>duration</th>\n",
              "      <th>category</th>\n",
              "    </tr>\n",
              "  </thead>\n",
              "  <tbody>\n",
              "    <tr>\n",
              "      <th>0</th>\n",
              "      <td>5912</td>\n",
              "      <td>40</td>\n",
              "      <td>1031602</td>\n",
              "      <td>8523</td>\n",
              "      <td>363</td>\n",
              "      <td>1095</td>\n",
              "      <td>2168</td>\n",
              "      <td>457</td>\n",
              "      <td>6</td>\n",
              "    </tr>\n",
              "    <tr>\n",
              "      <th>1</th>\n",
              "      <td>2741</td>\n",
              "      <td>2</td>\n",
              "      <td>1707</td>\n",
              "      <td>56</td>\n",
              "      <td>2</td>\n",
              "      <td>6</td>\n",
              "      <td>2185</td>\n",
              "      <td>570</td>\n",
              "      <td>4</td>\n",
              "    </tr>\n",
              "    <tr>\n",
              "      <th>2</th>\n",
              "      <td>8138</td>\n",
              "      <td>1</td>\n",
              "      <td>2023</td>\n",
              "      <td>25</td>\n",
              "      <td>0</td>\n",
              "      <td>2</td>\n",
              "      <td>2094</td>\n",
              "      <td>136</td>\n",
              "      <td>3</td>\n",
              "    </tr>\n",
              "    <tr>\n",
              "      <th>3</th>\n",
              "      <td>9005</td>\n",
              "      <td>6</td>\n",
              "      <td>620860</td>\n",
              "      <td>777</td>\n",
              "      <td>161</td>\n",
              "      <td>153</td>\n",
              "      <td>2119</td>\n",
              "      <td>262</td>\n",
              "      <td>8</td>\n",
              "    </tr>\n",
              "    <tr>\n",
              "      <th>4</th>\n",
              "      <td>122</td>\n",
              "      <td>1</td>\n",
              "      <td>666</td>\n",
              "      <td>1</td>\n",
              "      <td>0</td>\n",
              "      <td>0</td>\n",
              "      <td>2091</td>\n",
              "      <td>31</td>\n",
              "      <td>4</td>\n",
              "    </tr>\n",
              "  </tbody>\n",
              "</table>\n",
              "</div>"
            ],
            "text/plain": [
              "   vidid  adview    views  likes  ...  comment published  duration  category\n",
              "0   5912      40  1031602   8523  ...     1095      2168       457         6\n",
              "1   2741       2     1707     56  ...        6      2185       570         4\n",
              "2   8138       1     2023     25  ...        2      2094       136         3\n",
              "3   9005       6   620860    777  ...      153      2119       262         8\n",
              "4    122       1      666      1  ...        0      2091        31         4\n",
              "\n",
              "[5 rows x 9 columns]"
            ]
          },
          "metadata": {
            "tags": []
          },
          "execution_count": 940
        }
      ]
    },
    {
      "cell_type": "code",
      "metadata": {
        "colab": {
          "base_uri": "https://localhost:8080/",
          "height": 783
        },
        "id": "iIiz8U_BXZoe",
        "outputId": "054670a2-0c70-4d83-da0f-fbd139368f4d"
      },
      "source": [
        "plt.hist(data_train[\"category\"])\r\n",
        "plt.show()\r\n",
        "plt.plot(data_train[\"adview\"])\r\n",
        "plt.show()\r\n",
        "data_train.boxplot(\"adview\")\r\n",
        "plt.show()"
      ],
      "execution_count": 941,
      "outputs": [
        {
          "output_type": "display_data",
          "data": {
            "image/png": "[encoded data removed]",
            "text/plain": [
              "<Figure size 432x288 with 1 Axes>"
            ]
          },
          "metadata": {
            "tags": [],
            "needs_background": "light"
          }
        },
        {
          "output_type": "display_data",
          "data": {
            "image/png": "[encoded data removed]",
            "text/plain": [
              "<Figure size 432x288 with 1 Axes>"
            ]
          },
          "metadata": {
            "tags": [],
            "needs_background": "light"
          }
        },
        {
          "output_type": "display_data",
          "data": {
            "image/png": "[encoded data removed]",
            "text/plain": [
              "<Figure size 432x288 with 1 Axes>"
            ]
          },
          "metadata": {
            "tags": [],
            "needs_background": "light"
          }
        }
      ]
    },
    {
      "cell_type": "code",
      "metadata": {
        "id": "3xoR_43XYS_n",
        "colab": {
          "base_uri": "https://localhost:8080/"
        },
        "outputId": "a15f2c91-26c3-4b74-9cc3-a20b0455b0f0"
      },
      "source": [
        "data_train = data_train[data_train[\"adview\"] <50000]\r\n",
        "data_train.shape"
      ],
      "execution_count": 942,
      "outputs": [
        {
          "output_type": "execute_result",
          "data": {
            "text/plain": [
              "(14546, 9)"
            ]
          },
          "metadata": {
            "tags": []
          },
          "execution_count": 942
        }
      ]
    },
    {
      "cell_type": "code",
      "metadata": {
        "colab": {
          "base_uri": "https://localhost:8080/",
          "height": 487
        },
        "id": "UtumHe-7YT1u",
        "outputId": "cdbd3ba3-c6f8-4c5d-e5c8-3c81b32e05ee"
      },
      "source": [
        "import seaborn as sns\r\n",
        "f, ax = plt.subplots(figsize=(10, 8))\r\n",
        "corr = data_train.corr()\r\n",
        "sns.heatmap(corr, mask=np.zeros_like(corr, dtype=np.bool), cmap=sns.diverging_palette(220, 10, as_cmap=True),\r\n",
        "square=True, ax=ax,annot=True)\r\n",
        "plt.show()"
      ],
      "execution_count": 943,
      "outputs": [
        {
          "output_type": "display_data",
          "data": {
            "image/png": "[encoded data removed]",
            "text/plain": [
              "<Figure size 720x576 with 2 Axes>"
            ]
          },
          "metadata": {
            "tags": [],
            "needs_background": "light"
          }
        }
      ]
    },
    {
      "cell_type": "code",
      "metadata": {
        "colab": {
          "base_uri": "https://localhost:8080/",
          "height": 195
        },
        "id": "IoLlYPkgatX4",
        "outputId": "96e09a38-ae54-4ee0-e320-5db3c329f013"
      },
      "source": [
        "Y_train = pd.DataFrame(data= data_train.iloc[:,1].values,columns=['target'])\r\n",
        "data_train = data_train.drop(['adview'],axis=1)\r\n",
        "data_train= data_train.drop(['vidid'],axis=1)\r\n",
        "data_train.head()"
      ],
      "execution_count": 944,
      "outputs": [
        {
          "output_type": "execute_result",
          "data": {
            "text/html": [
              "<div>\n",
              "<style scoped>\n",
              "    .dataframe tbody tr th:only-of-type {\n",
              "        vertical-align: middle;\n",
              "    }\n",
              "\n",
              "    .dataframe tbody tr th {\n",
              "        vertical-align: top;\n",
              "    }\n",
              "\n",
              "    .dataframe thead th {\n",
              "        text-align: right;\n",
              "    }\n",
              "</style>\n",
              "<table border=\"1\" class=\"dataframe\">\n",
              "  <thead>\n",
              "    <tr style=\"text-align: right;\">\n",
              "      <th></th>\n",
              "      <th>views</th>\n",
              "      <th>likes</th>\n",
              "      <th>dislikes</th>\n",
              "      <th>comment</th>\n",
              "      <th>published</th>\n",
              "      <th>duration</th>\n",
              "      <th>category</th>\n",
              "    </tr>\n",
              "  </thead>\n",
              "  <tbody>\n",
              "    <tr>\n",
              "      <th>0</th>\n",
              "      <td>1031602</td>\n",
              "      <td>8523</td>\n",
              "      <td>363</td>\n",
              "      <td>1095</td>\n",
              "      <td>2168</td>\n",
              "      <td>457</td>\n",
              "      <td>6</td>\n",
              "    </tr>\n",
              "    <tr>\n",
              "      <th>1</th>\n",
              "      <td>1707</td>\n",
              "      <td>56</td>\n",
              "      <td>2</td>\n",
              "      <td>6</td>\n",
              "      <td>2185</td>\n",
              "      <td>570</td>\n",
              "      <td>4</td>\n",
              "    </tr>\n",
              "    <tr>\n",
              "      <th>2</th>\n",
              "      <td>2023</td>\n",
              "      <td>25</td>\n",
              "      <td>0</td>\n",
              "      <td>2</td>\n",
              "      <td>2094</td>\n",
              "      <td>136</td>\n",
              "      <td>3</td>\n",
              "    </tr>\n",
              "    <tr>\n",
              "      <th>3</th>\n",
              "      <td>620860</td>\n",
              "      <td>777</td>\n",
              "      <td>161</td>\n",
              "      <td>153</td>\n",
              "      <td>2119</td>\n",
              "      <td>262</td>\n",
              "      <td>8</td>\n",
              "    </tr>\n",
              "    <tr>\n",
              "      <th>4</th>\n",
              "      <td>666</td>\n",
              "      <td>1</td>\n",
              "      <td>0</td>\n",
              "      <td>0</td>\n",
              "      <td>2091</td>\n",
              "      <td>31</td>\n",
              "      <td>4</td>\n",
              "    </tr>\n",
              "  </tbody>\n",
              "</table>\n",
              "</div>"
            ],
            "text/plain": [
              "     views  likes  dislikes comment  published  duration  category\n",
              "0  1031602   8523       363    1095       2168       457         6\n",
              "1     1707     56         2       6       2185       570         4\n",
              "2     2023     25         0       2       2094       136         3\n",
              "3   620860    777       161     153       2119       262         8\n",
              "4      666      1         0       0       2091        31         4"
            ]
          },
          "metadata": {
            "tags": []
          },
          "execution_count": 944
        }
      ]
    },
    {
      "cell_type": "code",
      "metadata": {
        "colab": {
          "base_uri": "https://localhost:8080/"
        },
        "id": "xozJhrA9bq4k",
        "outputId": "cdd15f85-7ca1-4b00-c349-a300161540bf"
      },
      "source": [
        "from sklearn.model_selection import train_test_split\r\n",
        "X_train,X_test,Y_train,Y_test=train_test_split(data_train,Y_train,test_size=0.2,random_state=42)\r\n",
        "X_train,X_test,Y_train,Y_test"
      ],
      "execution_count": 945,
      "outputs": [
        {
          "output_type": "execute_result",
          "data": {
            "text/plain": [
              "(          views  likes  dislikes comment  published  duration  category\n",
              " 9265     842042   4170       205     346       1001      2987         4\n",
              " 3432      77306    680        15     175       1025       408         1\n",
              " 10251    224657    193        70      19       2136      1449         5\n",
              " 1761     146645    495        60     139        699        27         5\n",
              " 9927      49980    134         8      22       1239       785         4\n",
              " ...         ...    ...       ...     ...        ...       ...       ...\n",
              " 5348     254203    153        35       4       1977       533         4\n",
              " 13832     21606     71         6      28        976       162         4\n",
              " 5554     654700    328        21      41        360       204         7\n",
              " 886    64310773  20397     10258      23       1790         0         8\n",
              " 7492     963130   2428       419    1489       2021       604         4\n",
              " \n",
              " [11636 rows x 7 columns],\n",
              "          views  likes  dislikes comment  published  duration  category\n",
              " 2140    145860   1210         7      55       1869       191         6\n",
              " 13913    80240     87        20       4        686       164         3\n",
              " 9595    166852    287         5      22       2055        39         4\n",
              " 10169    93152    212        12      13        823       127         7\n",
              " 11762   519348   3661        69     193       1789        88         7\n",
              " ...        ...    ...       ...     ...        ...       ...       ...\n",
              " 8519     46521    650         6     128       1190       276         7\n",
              " 12194  1435800   4166       294     632       1819       617         1\n",
              " 14550     1709     22         0      20       1119      1771         1\n",
              " 6291    376439    446        38      24       1755      2521         5\n",
              " 14109   213243   1313        61     313       1712       413         6\n",
              " \n",
              " [2910 rows x 7 columns],\n",
              "        target\n",
              " 8991       20\n",
              " 3325        1\n",
              " 9946        1\n",
              " 1710       21\n",
              " 9629        2\n",
              " ...       ...\n",
              " 5191        4\n",
              " 13418       2\n",
              " 5390        1\n",
              " 860        93\n",
              " 7270        4\n",
              " \n",
              " [11636 rows x 1 columns],\n",
              "        target\n",
              " 2069        2\n",
              " 13497       1\n",
              " 9309        1\n",
              " 9864        2\n",
              " 11409       1\n",
              " ...       ...\n",
              " 8271        2\n",
              " 11830     255\n",
              " 14117       1\n",
              " 6110        1\n",
              " 13690      20\n",
              " \n",
              " [2910 rows x 1 columns])"
            ]
          },
          "metadata": {
            "tags": []
          },
          "execution_count": 945
        }
      ]
    },
    {
      "cell_type": "code",
      "metadata": {
        "colab": {
          "base_uri": "https://localhost:8080/"
        },
        "id": "qnj0L5TpdAaY",
        "outputId": "686d570d-110e-4d62-e1e1-e8d0d97602e7"
      },
      "source": [
        "from sklearn.preprocessing import MinMaxScaler\r\n",
        "scalerx=MinMaxScaler()\r\n",
        "scalery=MinMaxScaler()\r\n",
        "X_train=scalerx.fit_transform(X_train)\r\n",
        "X_test=scalerx.transform(X_test)\r\n",
        "Y_train=scalery.fit_transform(Y_train)\r\n",
        "X_train,X_test"
      ],
      "execution_count": 946,
      "outputs": [
        {
          "output_type": "execute_result",
          "data": {
            "text/plain": [
              "(array([[6.09928502e-03, 1.46922036e-02, 4.14568545e-03, ...,\n",
              "         4.20058749e-01, 7.05862892e-02, 4.28571429e-01],\n",
              "        [5.59639406e-04, 2.39585095e-03, 3.03342838e-04, ...,\n",
              "         4.30130088e-01, 9.64151523e-03, 0.00000000e+00],\n",
              "        [1.62703040e-03, 6.79998873e-04, 1.41559991e-03, ...,\n",
              "         8.96349140e-01, 3.42415578e-02, 5.71428571e-01],\n",
              "        ...,\n",
              "        [4.74220455e-03, 1.15564575e-03, 4.24679973e-04, ...,\n",
              "         1.51070080e-01, 4.82075762e-03, 8.57142857e-01],\n",
              "        [4.65858309e-01, 7.18649586e-02, 2.07446056e-01, ...,\n",
              "         7.51154008e-01, 0.00000000e+00, 1.00000000e+00],\n",
              "        [6.97643034e-03, 8.55459722e-03, 8.47337661e-03, ...,\n",
              "         8.48090642e-01, 1.42732235e-02, 4.28571429e-01]]),\n",
              " array([[1.05623544e-03, 4.26320537e-03, 1.41559991e-04, ...,\n",
              "         7.84305497e-01, 4.51355247e-03, 7.14285714e-01],\n",
              "        [5.80892911e-04, 3.06527989e-04, 4.04457117e-04, ...,\n",
              "         2.87872430e-01, 3.87551102e-03, 2.85714286e-01],\n",
              "        [1.20829869e-03, 1.01119003e-03, 1.01114279e-04, ...,\n",
              "         8.62358372e-01, 9.21615426e-04, 4.28571429e-01],\n",
              "        ...,\n",
              "        [1.20248186e-05, 7.75128248e-05, 0.00000000e+00, ...,\n",
              "         4.69576164e-01, 4.18507928e-02, 0.00000000e+00],\n",
              "        [2.72651897e-03, 1.57139636e-03, 7.68468523e-04, ...,\n",
              "         7.36466639e-01, 5.95741664e-02, 5.71428571e-01],\n",
              "        [1.54434891e-03, 4.62610632e-03, 1.23359421e-03, ...,\n",
              "         7.18422157e-01, 9.75967105e-03, 7.14285714e-01]]))"
            ]
          },
          "metadata": {
            "tags": []
          },
          "execution_count": 946
        }
      ]
    },
    {
      "cell_type": "code",
      "metadata": {
        "colab": {
          "base_uri": "https://localhost:8080/"
        },
        "id": "paAMY4Hseln0",
        "outputId": "e70a7973-fd21-434a-cc19-e569098866bd"
      },
      "source": [
        "from sklearn import metrics\r\n",
        "def print_errors(X_test,Y_test,model):\r\n",
        "  Y_pred=model.predict(X_test)\r\n",
        "  Y_pred=Y_pred.reshape(-1,1)\r\n",
        "  Y_pred=scalery.inverse_transform(Y_pred)\r\n",
        "  print(\"Mean Absolute Error:\",metrics.mean_absolute_error(Y_test,Y_pred))\r\n",
        "  print(\"Mean Squared Error:\",metrics.mean_squared_error(Y_test,Y_pred))\r\n",
        "  print(\"Root Mean Squared Error:\",np.sqrt(metrics.mean_squared_error(Y_test,Y_pred)))\r\n",
        "  from sklearn.metrics import mean_squared_error,r2_score\r\n",
        "  msc=mean_squared_error(Y_test,Y_pred)      \r\n",
        "  r2_score=r2_score(Y_test,Y_pred)  \r\n",
        "  print(\"r2_score is\",r2_score)\r\n",
        "\r\n",
        "from sklearn.linear_model import LinearRegression\r\n",
        "linear_regression=LinearRegression()\r\n",
        "model=linear_regression.fit(X_train,Y_train)\r\n",
        "print(\"Linear Regression\")\r\n",
        "print_errors(X_test,Y_test,model)\r\n",
        "print(\"\")\r\n",
        "\r\n",
        "from sklearn.svm import SVR\r\n",
        "support_vector_regressor=SVR()\r\n",
        "model=support_vector_regressor.fit(X_train,Y_train)\r\n",
        "print(\"Support Vector Regressor\")\r\n",
        "print_errors(X_test,Y_test,model)\r\n",
        "print(\"\")\r\n",
        "\r\n",
        "from sklearn.tree import DecisionTreeRegressor\r\n",
        "decision_tree_regressor=DecisionTreeRegressor()\r\n",
        "model=decision_tree_regressor.fit(X_train,Y_train)\r\n",
        "print(\"Decision Tree Regressor\")\r\n",
        "print_errors(X_test,Y_test,model)\r\n",
        "print(\"\")\r\n",
        "\r\n",
        "from sklearn.ensemble import RandomForestRegressor\r\n",
        "random_forest_regressor = RandomForestRegressor(n_estimators = 50,max_depth = 25,min_samples_split=15,min_samples_leaf=2)\r\n",
        "req_model= random_forest_regressor.fit(X_train,Y_train)\r\n",
        "print(\"Random Forest Regressor\")\r\n",
        "print_errors(X_test,Y_test,req_model)"
      ],
      "execution_count": 947,
      "outputs": [
        {
          "output_type": "stream",
          "text": [
            "Linear Regression\n",
            "Mean Absolute Error: 662.1516581692035\n",
            "Mean Squared Error: 5751385.96224477\n",
            "Root Mean Squared Error: 2398.20473734933\n",
            "r2_score is 0.008751738568901657\n",
            "\n"
          ],
          "name": "stdout"
        },
        {
          "output_type": "stream",
          "text": [
            "/usr/local/lib/python3.6/dist-packages/sklearn/utils/validation.py:760: DataConversionWarning: A column-vector y was passed when a 1d array was expected. Please change the shape of y to (n_samples, ), for example using ravel().\n",
            "  y = column_or_1d(y, warn=True)\n"
          ],
          "name": "stderr"
        },
        {
          "output_type": "stream",
          "text": [
            "Support Vector Regressor\n",
            "Mean Absolute Error: 4872.028074191567\n",
            "Mean Squared Error: 26161729.376480423\n",
            "Root Mean Squared Error: 5114.853798153024\n",
            "r2_score is -3.5089599151759128\n",
            "\n",
            "Decision Tree Regressor\n",
            "Mean Absolute Error: 494.13516858093027\n",
            "Mean Squared Error: 9171326.16392058\n",
            "Root Mean Squared Error: 3028.419746983661\n",
            "r2_score is -0.5806731063925283\n",
            "\n"
          ],
          "name": "stdout"
        },
        {
          "output_type": "stream",
          "text": [
            "/usr/local/lib/python3.6/dist-packages/ipykernel_launcher.py:37: DataConversionWarning: A column-vector y was passed when a 1d array was expected. Please change the shape of y to (n_samples,), for example using ravel().\n"
          ],
          "name": "stderr"
        },
        {
          "output_type": "stream",
          "text": [
            "Random Forest Regressor\n",
            "Mean Absolute Error: 506.30056384154517\n",
            "Mean Squared Error: 4843379.4229518585\n",
            "Root Mean Squared Error: 2200.7679166490634\n",
            "r2_score is 0.16524617475361414\n"
          ],
          "name": "stdout"
        }
      ]
    },
    {
      "cell_type": "code",
      "metadata": {
        "colab": {
          "base_uri": "https://localhost:8080/"
        },
        "id": "aUJOSYgdpcz0",
        "outputId": "3c26c9c0-d997-47d2-f850-0f84ff4e8cea"
      },
      "source": [
        "import keras\r\n",
        "from keras.layers import Dense\r\n",
        "ann = keras.models.Sequential([Dense(6, activation=\"relu\",input_shape=X_train.shape[1:]),Dense(6,activation=\"relu\"),Dense(1)])\r\n",
        "optimizer=keras.optimizers.Adam()\r\n",
        "loss=keras.losses.mean_squared_error\r\n",
        "ann.compile(optimizer=optimizer,loss=loss,metrics=[\"mean_squared_error\"])\r\n",
        "history=ann.fit(X_train,Y_train,epochs=100)\r\n",
        "ann.summary()\r\n",
        "print_errors(X_test,Y_test,ann)"
      ],
      "execution_count": 948,
      "outputs": [
        {
          "output_type": "stream",
          "text": [
            "Epoch 1/100\n",
            "364/364 [==============================] - 1s 1ms/step - loss: 0.0229 - mean_squared_error: 0.0229\n",
            "Epoch 2/100\n",
            "364/364 [==============================] - 0s 934us/step - loss: 0.0034 - mean_squared_error: 0.0034\n",
            "Epoch 3/100\n",
            "364/364 [==============================] - 0s 964us/step - loss: 0.0032 - mean_squared_error: 0.0032\n",
            "Epoch 4/100\n",
            "364/364 [==============================] - 0s 1ms/step - loss: 0.0028 - mean_squared_error: 0.0028\n",
            "Epoch 5/100\n",
            "364/364 [==============================] - 0s 968us/step - loss: 0.0031 - mean_squared_error: 0.0031\n",
            "Epoch 6/100\n",
            "364/364 [==============================] - 0s 945us/step - loss: 0.0030 - mean_squared_error: 0.0030\n",
            "Epoch 7/100\n",
            "364/364 [==============================] - 0s 989us/step - loss: 0.0032 - mean_squared_error: 0.0032\n",
            "Epoch 8/100\n",
            "364/364 [==============================] - 0s 965us/step - loss: 0.0029 - mean_squared_error: 0.0029\n",
            "Epoch 9/100\n",
            "364/364 [==============================] - 0s 976us/step - loss: 0.0032 - mean_squared_error: 0.0032\n",
            "Epoch 10/100\n",
            "364/364 [==============================] - 0s 956us/step - loss: 0.0029 - mean_squared_error: 0.0029\n",
            "Epoch 11/100\n",
            "364/364 [==============================] - 0s 987us/step - loss: 0.0026 - mean_squared_error: 0.0026\n",
            "Epoch 12/100\n",
            "364/364 [==============================] - 0s 998us/step - loss: 0.0031 - mean_squared_error: 0.0031\n",
            "Epoch 13/100\n",
            "364/364 [==============================] - 0s 1ms/step - loss: 0.0034 - mean_squared_error: 0.0034\n",
            "Epoch 14/100\n",
            "364/364 [==============================] - 0s 1ms/step - loss: 0.0023 - mean_squared_error: 0.0023\n",
            "Epoch 15/100\n",
            "364/364 [==============================] - 0s 985us/step - loss: 0.0030 - mean_squared_error: 0.0030\n",
            "Epoch 16/100\n",
            "364/364 [==============================] - 0s 934us/step - loss: 0.0026 - mean_squared_error: 0.0026\n",
            "Epoch 17/100\n",
            "364/364 [==============================] - 0s 1ms/step - loss: 0.0036 - mean_squared_error: 0.0036\n",
            "Epoch 18/100\n",
            "364/364 [==============================] - 0s 962us/step - loss: 0.0027 - mean_squared_error: 0.0027\n",
            "Epoch 19/100\n",
            "364/364 [==============================] - 0s 956us/step - loss: 0.0026 - mean_squared_error: 0.0026\n",
            "Epoch 20/100\n",
            "364/364 [==============================] - 0s 987us/step - loss: 0.0026 - mean_squared_error: 0.0026\n",
            "Epoch 21/100\n",
            "364/364 [==============================] - 0s 1ms/step - loss: 0.0033 - mean_squared_error: 0.0033\n",
            "Epoch 22/100\n",
            "364/364 [==============================] - 0s 960us/step - loss: 0.0031 - mean_squared_error: 0.0031\n",
            "Epoch 23/100\n",
            "364/364 [==============================] - 0s 968us/step - loss: 0.0025 - mean_squared_error: 0.0025\n",
            "Epoch 24/100\n",
            "364/364 [==============================] - 0s 980us/step - loss: 0.0025 - mean_squared_error: 0.0025\n",
            "Epoch 25/100\n",
            "364/364 [==============================] - 0s 994us/step - loss: 0.0028 - mean_squared_error: 0.0028\n",
            "Epoch 26/100\n",
            "364/364 [==============================] - 0s 1ms/step - loss: 0.0030 - mean_squared_error: 0.0030\n",
            "Epoch 27/100\n",
            "364/364 [==============================] - 0s 964us/step - loss: 0.0023 - mean_squared_error: 0.0023\n",
            "Epoch 28/100\n",
            "364/364 [==============================] - 0s 974us/step - loss: 0.0023 - mean_squared_error: 0.0023\n",
            "Epoch 29/100\n",
            "364/364 [==============================] - 0s 1ms/step - loss: 0.0029 - mean_squared_error: 0.0029\n",
            "Epoch 30/100\n",
            "364/364 [==============================] - 0s 936us/step - loss: 0.0028 - mean_squared_error: 0.0028\n",
            "Epoch 31/100\n",
            "364/364 [==============================] - 0s 957us/step - loss: 0.0030 - mean_squared_error: 0.0030\n",
            "Epoch 32/100\n",
            "364/364 [==============================] - 0s 977us/step - loss: 0.0028 - mean_squared_error: 0.0028\n",
            "Epoch 33/100\n",
            "364/364 [==============================] - 0s 1ms/step - loss: 0.0031 - mean_squared_error: 0.0031\n",
            "Epoch 34/100\n",
            "364/364 [==============================] - 0s 972us/step - loss: 0.0029 - mean_squared_error: 0.0029\n",
            "Epoch 35/100\n",
            "364/364 [==============================] - 0s 1000us/step - loss: 0.0026 - mean_squared_error: 0.0026\n",
            "Epoch 36/100\n",
            "364/364 [==============================] - 0s 972us/step - loss: 0.0028 - mean_squared_error: 0.0028\n",
            "Epoch 37/100\n",
            "364/364 [==============================] - 0s 1ms/step - loss: 0.0031 - mean_squared_error: 0.0031\n",
            "Epoch 38/100\n",
            "364/364 [==============================] - 0s 1ms/step - loss: 0.0031 - mean_squared_error: 0.0031\n",
            "Epoch 39/100\n",
            "364/364 [==============================] - 0s 1ms/step - loss: 0.0025 - mean_squared_error: 0.0025\n",
            "Epoch 40/100\n",
            "364/364 [==============================] - 0s 998us/step - loss: 0.0026 - mean_squared_error: 0.0026\n",
            "Epoch 41/100\n",
            "364/364 [==============================] - 0s 945us/step - loss: 0.0031 - mean_squared_error: 0.0031\n",
            "Epoch 42/100\n",
            "364/364 [==============================] - 0s 1ms/step - loss: 0.0027 - mean_squared_error: 0.0027\n",
            "Epoch 43/100\n",
            "364/364 [==============================] - 0s 1ms/step - loss: 0.0031 - mean_squared_error: 0.0031\n",
            "Epoch 44/100\n",
            "364/364 [==============================] - 0s 963us/step - loss: 0.0024 - mean_squared_error: 0.0024\n",
            "Epoch 45/100\n",
            "364/364 [==============================] - 0s 944us/step - loss: 0.0035 - mean_squared_error: 0.0035\n",
            "Epoch 46/100\n",
            "364/364 [==============================] - 0s 991us/step - loss: 0.0034 - mean_squared_error: 0.0034\n",
            "Epoch 47/100\n",
            "364/364 [==============================] - 0s 988us/step - loss: 0.0028 - mean_squared_error: 0.0028\n",
            "Epoch 48/100\n",
            "364/364 [==============================] - 0s 1ms/step - loss: 0.0022 - mean_squared_error: 0.0022\n",
            "Epoch 49/100\n",
            "364/364 [==============================] - 0s 986us/step - loss: 0.0023 - mean_squared_error: 0.0023\n",
            "Epoch 50/100\n",
            "364/364 [==============================] - 0s 1ms/step - loss: 0.0027 - mean_squared_error: 0.0027\n",
            "Epoch 51/100\n",
            "364/364 [==============================] - 0s 1ms/step - loss: 0.0030 - mean_squared_error: 0.0030\n",
            "Epoch 52/100\n",
            "364/364 [==============================] - 0s 943us/step - loss: 0.0026 - mean_squared_error: 0.0026\n",
            "Epoch 53/100\n",
            "364/364 [==============================] - 0s 970us/step - loss: 0.0032 - mean_squared_error: 0.0032\n",
            "Epoch 54/100\n",
            "364/364 [==============================] - 0s 1ms/step - loss: 0.0031 - mean_squared_error: 0.0031\n",
            "Epoch 55/100\n",
            "364/364 [==============================] - 0s 1ms/step - loss: 0.0024 - mean_squared_error: 0.0024\n",
            "Epoch 56/100\n",
            "364/364 [==============================] - 0s 1ms/step - loss: 0.0026 - mean_squared_error: 0.0026\n",
            "Epoch 57/100\n",
            "364/364 [==============================] - 0s 1ms/step - loss: 0.0025 - mean_squared_error: 0.0025\n",
            "Epoch 58/100\n",
            "364/364 [==============================] - 0s 964us/step - loss: 0.0027 - mean_squared_error: 0.0027\n",
            "Epoch 59/100\n",
            "364/364 [==============================] - 0s 978us/step - loss: 0.0027 - mean_squared_error: 0.0027\n",
            "Epoch 60/100\n",
            "364/364 [==============================] - 0s 982us/step - loss: 0.0026 - mean_squared_error: 0.0026\n",
            "Epoch 61/100\n",
            "364/364 [==============================] - 0s 962us/step - loss: 0.0027 - mean_squared_error: 0.0027\n",
            "Epoch 62/100\n",
            "364/364 [==============================] - 0s 1ms/step - loss: 0.0037 - mean_squared_error: 0.0037\n",
            "Epoch 63/100\n",
            "364/364 [==============================] - 0s 1ms/step - loss: 0.0028 - mean_squared_error: 0.0028\n",
            "Epoch 64/100\n",
            "364/364 [==============================] - 0s 1ms/step - loss: 0.0028 - mean_squared_error: 0.0028\n",
            "Epoch 65/100\n",
            "364/364 [==============================] - 0s 1ms/step - loss: 0.0034 - mean_squared_error: 0.0034\n",
            "Epoch 66/100\n",
            "364/364 [==============================] - 0s 1ms/step - loss: 0.0025 - mean_squared_error: 0.0025\n",
            "Epoch 67/100\n",
            "364/364 [==============================] - 0s 1ms/step - loss: 0.0027 - mean_squared_error: 0.0027\n",
            "Epoch 68/100\n",
            "364/364 [==============================] - 0s 1ms/step - loss: 0.0035 - mean_squared_error: 0.0035\n",
            "Epoch 69/100\n",
            "364/364 [==============================] - 0s 1ms/step - loss: 0.0029 - mean_squared_error: 0.0029\n",
            "Epoch 70/100\n",
            "364/364 [==============================] - 0s 1ms/step - loss: 0.0032 - mean_squared_error: 0.0032\n",
            "Epoch 71/100\n",
            "364/364 [==============================] - 0s 1ms/step - loss: 0.0031 - mean_squared_error: 0.0031\n",
            "Epoch 72/100\n",
            "364/364 [==============================] - 0s 991us/step - loss: 0.0027 - mean_squared_error: 0.0027\n",
            "Epoch 73/100\n",
            "364/364 [==============================] - 0s 1ms/step - loss: 0.0029 - mean_squared_error: 0.0029\n",
            "Epoch 74/100\n",
            "364/364 [==============================] - 0s 1ms/step - loss: 0.0028 - mean_squared_error: 0.0028\n",
            "Epoch 75/100\n",
            "364/364 [==============================] - 0s 1000us/step - loss: 0.0026 - mean_squared_error: 0.0026\n",
            "Epoch 76/100\n",
            "364/364 [==============================] - 0s 1ms/step - loss: 0.0031 - mean_squared_error: 0.0031\n",
            "Epoch 77/100\n",
            "364/364 [==============================] - 0s 966us/step - loss: 0.0028 - mean_squared_error: 0.0028\n",
            "Epoch 78/100\n",
            "364/364 [==============================] - 0s 1ms/step - loss: 0.0033 - mean_squared_error: 0.0033\n",
            "Epoch 79/100\n",
            "364/364 [==============================] - 0s 953us/step - loss: 0.0033 - mean_squared_error: 0.0033\n",
            "Epoch 80/100\n",
            "364/364 [==============================] - 0s 1ms/step - loss: 0.0024 - mean_squared_error: 0.0024\n",
            "Epoch 81/100\n",
            "364/364 [==============================] - 0s 995us/step - loss: 0.0031 - mean_squared_error: 0.0031\n",
            "Epoch 82/100\n",
            "364/364 [==============================] - 0s 1ms/step - loss: 0.0033 - mean_squared_error: 0.0033\n",
            "Epoch 83/100\n",
            "364/364 [==============================] - 0s 960us/step - loss: 0.0033 - mean_squared_error: 0.0033\n",
            "Epoch 84/100\n",
            "364/364 [==============================] - 0s 1ms/step - loss: 0.0032 - mean_squared_error: 0.0032\n",
            "Epoch 85/100\n",
            "364/364 [==============================] - 0s 1ms/step - loss: 0.0032 - mean_squared_error: 0.0032\n",
            "Epoch 86/100\n",
            "364/364 [==============================] - 0s 1ms/step - loss: 0.0031 - mean_squared_error: 0.0031\n",
            "Epoch 87/100\n",
            "364/364 [==============================] - 0s 1ms/step - loss: 0.0033 - mean_squared_error: 0.0033\n",
            "Epoch 88/100\n",
            "364/364 [==============================] - 0s 1ms/step - loss: 0.0030 - mean_squared_error: 0.0030\n",
            "Epoch 89/100\n",
            "364/364 [==============================] - 0s 1ms/step - loss: 0.0028 - mean_squared_error: 0.0028\n",
            "Epoch 90/100\n",
            "364/364 [==============================] - 0s 1ms/step - loss: 0.0023 - mean_squared_error: 0.0023\n",
            "Epoch 91/100\n",
            "364/364 [==============================] - 0s 1ms/step - loss: 0.0025 - mean_squared_error: 0.0025\n",
            "Epoch 92/100\n",
            "364/364 [==============================] - 0s 1ms/step - loss: 0.0029 - mean_squared_error: 0.0029\n",
            "Epoch 93/100\n",
            "364/364 [==============================] - 0s 1ms/step - loss: 0.0028 - mean_squared_error: 0.0028\n",
            "Epoch 94/100\n",
            "364/364 [==============================] - 0s 1ms/step - loss: 0.0030 - mean_squared_error: 0.0030\n",
            "Epoch 95/100\n",
            "364/364 [==============================] - 0s 1ms/step - loss: 0.0028 - mean_squared_error: 0.0028\n",
            "Epoch 96/100\n",
            "364/364 [==============================] - 0s 1ms/step - loss: 0.0027 - mean_squared_error: 0.0027\n",
            "Epoch 97/100\n",
            "364/364 [==============================] - 0s 1ms/step - loss: 0.0026 - mean_squared_error: 0.0026\n",
            "Epoch 98/100\n",
            "364/364 [==============================] - 0s 1ms/step - loss: 0.0028 - mean_squared_error: 0.0028\n",
            "Epoch 99/100\n",
            "364/364 [==============================] - 0s 1ms/step - loss: 0.0033 - mean_squared_error: 0.0033\n",
            "Epoch 100/100\n",
            "364/364 [==============================] - 0s 1ms/step - loss: 0.0025 - mean_squared_error: 0.0025\n",
            "Model: \"sequential_24\"\n",
            "_________________________________________________________________\n",
            "Layer (type)                 Output Shape              Param #   \n",
            "=================================================================\n",
            "dense_72 (Dense)             (None, 6)                 48        \n",
            "_________________________________________________________________\n",
            "dense_73 (Dense)             (None, 6)                 42        \n",
            "_________________________________________________________________\n",
            "dense_74 (Dense)             (None, 1)                 7         \n",
            "=================================================================\n",
            "Total params: 97\n",
            "Trainable params: 97\n",
            "Non-trainable params: 0\n",
            "_________________________________________________________________\n",
            "Mean Absolute Error: 534.1336176108325\n",
            "Mean Squared Error: 5718164.9921764815\n",
            "Root Mean Squared Error: 2391.268490190192\n",
            "r2_score is 0.014477354801130882\n"
          ],
          "name": "stdout"
        }
      ]
    },
    {
      "cell_type": "code",
      "metadata": {
        "colab": {
          "base_uri": "https://localhost:8080/"
        },
        "id": "iOIRFqebrT0T",
        "outputId": "6471e73c-472b-4a33-a608-1a1a3544cf9c"
      },
      "source": [
        "import joblib\r\n",
        "joblib.dump(decision_tree_regressor, \"decisiontree_youtubeadview.pkl\")"
      ],
      "execution_count": 949,
      "outputs": [
        {
          "output_type": "execute_result",
          "data": {
            "text/plain": [
              "['decisiontree_youtubeadview.pkl']"
            ]
          },
          "metadata": {
            "tags": []
          },
          "execution_count": 949
        }
      ]
    },
    {
      "cell_type": "code",
      "metadata": {
        "id": "7R_WZYM2rU78"
      },
      "source": [
        "ann.save(\"ann_youtubeadview.h5\")"
      ],
      "execution_count": 950,
      "outputs": []
    },
    {
      "cell_type": "code",
      "metadata": {
        "id": "t-ghlQjeECSa",
        "colab": {
          "base_uri": "https://localhost:8080/"
        },
        "outputId": "360d83dd-0c22-468c-b19e-9698b77666a3"
      },
      "source": [
        "from google.colab import drive\n",
        "drive.mount('/content/drive')"
      ],
      "execution_count": 951,
      "outputs": [
        {
          "output_type": "stream",
          "text": [
            "Drive already mounted at /content/drive; to attempt to forcibly remount, call drive.mount(\"/content/drive\", force_remount=True).\n"
          ],
          "name": "stdout"
        }
      ]
    },
    {
      "cell_type": "code",
      "metadata": {
        "id": "kW4CppKaY2DG"
      },
      "source": [
        "def predict(data_test):\r\n",
        "  category={'A':1,'B':2,'C':3,'D':4,'E':5,'F':6,'G':7,'H':8}\r\n",
        "  data_test['category']=data_test['category'].map(category)\r\n",
        "  data_test=data_test[data_test.views !='F']\r\n",
        "  data_test=data_test[data_test.likes !='F']\r\n",
        "  data_test=data_test[data_test.dislikes !='F']\r\n",
        "  data_test=data_test[data_test.comment !='F']\r\n",
        "  data_test['views']=pd.to_numeric(data_test['views'])\r\n",
        "  data_test['likes']=pd.to_numeric(data_test['likes'])\r\n",
        "  data_test['dislikes']=pd.to_numeric(data_test['dislikes'])\r\n",
        "  data_test['comment']=pd.to_numeric(data_test['comment'])\r\n",
        "  label_enc = LabelEncoder()\r\n",
        "  data_test['vidid']=label_enc.fit_transform(data_test['vidid'])\r\n",
        "  data_test['published']=label_enc.fit_transform(data_test['published'])\r\n",
        "  data_test['duration']=label_enc.fit_transform(data_test['duration'])\r\n",
        "\r\n",
        "  mp = pd.read_csv(\"test.csv\")[\"duration\"]\r\n",
        "  time = mp.apply(checki)\r\n",
        "  time1=time.apply(func_sec)\r\n",
        "  data_test[\"duration\"]=time1\r\n",
        "\r\n",
        "  data_test= data_test.drop(['vidid'],axis=1)\r\n",
        "\r\n",
        "  data_test=scalerx.transform(data_test)\r\n",
        "\r\n",
        "  predictions=req_model.predict(data_test)\r\n",
        "  predictions=predictions.reshape(-1,1)\r\n",
        "  predictions=scalery.inverse_transform(predictions)\r\n",
        "  return predictions"
      ],
      "execution_count": 952,
      "outputs": []
    },
    {
      "cell_type": "code",
      "metadata": {
        "colab": {
          "base_uri": "https://localhost:8080/",
          "height": 402
        },
        "id": "NrVsFVvwZdm_",
        "outputId": "2e3cc75f-517b-41f6-a37c-f11871d94e0c"
      },
      "source": [
        "data_test= pd.read_csv('test.csv')\r\n",
        "pred= predict(data_test)\r\n",
        "pred= np.ceil(pred)\r\n",
        "pred_df= pd.DataFrame(pred,columns=['Adviews'])\r\n",
        "pred_df"
      ],
      "execution_count": 953,
      "outputs": [
        {
          "output_type": "execute_result",
          "data": {
            "text/html": [
              "<div>\n",
              "<style scoped>\n",
              "    .dataframe tbody tr th:only-of-type {\n",
              "        vertical-align: middle;\n",
              "    }\n",
              "\n",
              "    .dataframe tbody tr th {\n",
              "        vertical-align: top;\n",
              "    }\n",
              "\n",
              "    .dataframe thead th {\n",
              "        text-align: right;\n",
              "    }\n",
              "</style>\n",
              "<table border=\"1\" class=\"dataframe\">\n",
              "  <thead>\n",
              "    <tr style=\"text-align: right;\">\n",
              "      <th></th>\n",
              "      <th>Adviews</th>\n",
              "    </tr>\n",
              "  </thead>\n",
              "  <tbody>\n",
              "    <tr>\n",
              "      <th>0</th>\n",
              "      <td>18.0</td>\n",
              "    </tr>\n",
              "    <tr>\n",
              "      <th>1</th>\n",
              "      <td>7.0</td>\n",
              "    </tr>\n",
              "    <tr>\n",
              "      <th>2</th>\n",
              "      <td>136.0</td>\n",
              "    </tr>\n",
              "    <tr>\n",
              "      <th>3</th>\n",
              "      <td>36.0</td>\n",
              "    </tr>\n",
              "    <tr>\n",
              "      <th>4</th>\n",
              "      <td>173.0</td>\n",
              "    </tr>\n",
              "    <tr>\n",
              "      <th>...</th>\n",
              "      <td>...</td>\n",
              "    </tr>\n",
              "    <tr>\n",
              "      <th>8544</th>\n",
              "      <td>7.0</td>\n",
              "    </tr>\n",
              "    <tr>\n",
              "      <th>8545</th>\n",
              "      <td>5.0</td>\n",
              "    </tr>\n",
              "    <tr>\n",
              "      <th>8546</th>\n",
              "      <td>9.0</td>\n",
              "    </tr>\n",
              "    <tr>\n",
              "      <th>8547</th>\n",
              "      <td>8.0</td>\n",
              "    </tr>\n",
              "    <tr>\n",
              "      <th>8548</th>\n",
              "      <td>324.0</td>\n",
              "    </tr>\n",
              "  </tbody>\n",
              "</table>\n",
              "<p>8549 rows × 1 columns</p>\n",
              "</div>"
            ],
            "text/plain": [
              "      Adviews\n",
              "0        18.0\n",
              "1         7.0\n",
              "2       136.0\n",
              "3        36.0\n",
              "4       173.0\n",
              "...       ...\n",
              "8544      7.0\n",
              "8545      5.0\n",
              "8546      9.0\n",
              "8547      8.0\n",
              "8548    324.0\n",
              "\n",
              "[8549 rows x 1 columns]"
            ]
          },
          "metadata": {
            "tags": []
          },
          "execution_count": 953
        }
      ]
    },
    {
      "cell_type": "code",
      "metadata": {
        "id": "QFmpH7ShkzGD"
      },
      "source": [
        "pred_df.to_csv('predictions.csv')"
      ],
      "execution_count": 954,
      "outputs": []
    }
  ]
}